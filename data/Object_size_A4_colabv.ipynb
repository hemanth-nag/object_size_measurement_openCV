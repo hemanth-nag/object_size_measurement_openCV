{
  "nbformat": 4,
  "nbformat_minor": 0,
  "metadata": {
    "kernelspec": {
      "display_name": "Python 3",
      "language": "python",
      "name": "python3"
    },
    "language_info": {
      "codemirror_mode": {
        "name": "ipython",
        "version": 3
      },
      "file_extension": ".py",
      "mimetype": "text/x-python",
      "name": "python",
      "nbconvert_exporter": "python",
      "pygments_lexer": "ipython3",
      "version": "3.7.7"
    },
    "colab": {
      "name": "Object_size_A4.ipynb",
      "provenance": []
    }
  },
  "cells": [
    {
      "cell_type": "code",
      "metadata": {
        "id": "CDbM8IWa-nLS"
      },
      "source": [
        "# import the necessary packages\n",
        "from scipy.spatial import distance as dist\n",
        "from imutils import perspective\n",
        "from imutils.perspective import four_point_transform\n",
        "from imutils import contours\n",
        "import numpy as np\n",
        "import imutils\n",
        "import cv2\n",
        "from google.colab.patches import cv2_imshow"
      ],
      "execution_count": 27,
      "outputs": []
    },
    {
      "cell_type": "code",
      "metadata": {
        "id": "N3GQSWKl-1i4"
      },
      "source": [
        "!git clone https://github.com/hemanth-nag/object_size_measurement_openCV"
      ],
      "execution_count": null,
      "outputs": []
    },
    {
      "cell_type": "code",
      "metadata": {
        "id": "_8x7o4FD-1ma"
      },
      "source": [
        "!mv object_size_measurement_openCV/ object_size"
      ],
      "execution_count": 22,
      "outputs": []
    },
    {
      "cell_type": "code",
      "metadata": {
        "id": "J3sE_bbc-nLf"
      },
      "source": [
        "#width of A4 sheet in cm\n",
        "width=21"
      ],
      "execution_count": 7,
      "outputs": []
    },
    {
      "cell_type": "code",
      "metadata": {
        "id": "hHOOPo3j-nLh"
      },
      "source": [
        "def midpoint(ptA, ptB):\n",
        "\treturn ((ptA[0] + ptB[0]) * 0.5, (ptA[1] + ptB[1]) * 0.5)"
      ],
      "execution_count": 8,
      "outputs": []
    },
    {
      "cell_type": "code",
      "metadata": {
        "id": "gHgd0DBs-nLi"
      },
      "source": [
        "# load the image, convert it to grayscale, and blur it slightly\n",
        "image = cv2.imread('object_size/data/test6.jpeg')\n",
        "gray = cv2.cvtColor(image, cv2.COLOR_BGR2GRAY)\n",
        "gray = cv2.GaussianBlur(gray, (7, 7), 0)\n",
        "\n",
        "# perform edge detection, then perform a dilation + erosion to\n",
        "# close gaps in between object edges\n",
        "edged = cv2.Canny(gray, 50, 100)\n",
        "edged = cv2.dilate(edged, None, iterations=1)\n",
        "edged = cv2.erode(edged, None, iterations=1)\n",
        "\n",
        "# find contours in the edge map\n",
        "cnts = cv2.findContours(edged.copy(), cv2.RETR_EXTERNAL,\n",
        "\tcv2.CHAIN_APPROX_SIMPLE)\n",
        "cnts = imutils.grab_contours(cnts)\n"
      ],
      "execution_count": 23,
      "outputs": []
    },
    {
      "cell_type": "code",
      "metadata": {
        "id": "YqTQbQgg-nLj"
      },
      "source": [
        "docCnt = None\n",
        "\n",
        "# ensure that at least one contour was found\n",
        "if len(cnts) > 0:\n",
        "\t# sort the contours according to their size in\n",
        "\t# descending order\n",
        "\tcnts = sorted(cnts, key=cv2.contourArea, reverse=True)\n",
        "\n",
        "\t# loop over the sorted contours\n",
        "\tfor c in cnts:\n",
        "\t\t# approximate the contour\n",
        "\t\tperi = cv2.arcLength(c, True)\n",
        "\t\tapprox = cv2.approxPolyDP(c, 0.02 * peri, True)\n",
        "\n",
        "\t\t# if our approximated contour has four points,\n",
        "\t\t# then we can assume we have found the paper\n",
        "\t\tif len(approx) == 4:\n",
        "\t\t\tdocCnt = approx\n",
        "\t\t\tbox = cv2.minAreaRect(c)\n",
        "\t\t\tbox = cv2.cv.BoxPoints(box) if imutils.is_cv2() else cv2.boxPoints(box)\n",
        "\t\t\tbox = np.array(box, dtype=\"int\")\n",
        "\t\t\tbox = perspective.order_points(box)\n",
        "\t\t\t(tl, tr, br, bl) = box\n",
        "\t\t\tdis = dist.euclidean((tl[0], tl[1]), (tr[0], tr[1]))            \n",
        "\t\t\tbreak"
      ],
      "execution_count": 24,
      "outputs": []
    },
    {
      "cell_type": "code",
      "metadata": {
        "id": "W00ekvvM-nLk"
      },
      "source": [
        "pixelsPerMetric= dis/width"
      ],
      "execution_count": 25,
      "outputs": []
    },
    {
      "cell_type": "code",
      "metadata": {
        "id": "KmZH4qMj-nLk"
      },
      "source": [
        "# apply a four point perspective transform to both the\n",
        "# original image and grayscale image to obtain a top-down\n",
        "# birds eye view of the paper\n",
        "paper = four_point_transform(image, docCnt.reshape(4, 2))\n",
        "\n",
        "cv2_imshow(imutils.resize(paper, height = 650))\n",
        "cv2.waitKey(0)\n",
        "cv2.destroyAllWindows()"
      ],
      "execution_count": null,
      "outputs": []
    },
    {
      "cell_type": "code",
      "metadata": {
        "id": "9XMncnfZ-nLl"
      },
      "source": [
        "image=paper\n",
        "gray = cv2.cvtColor(image, cv2.COLOR_BGR2GRAY)\n",
        "gray = cv2.GaussianBlur(gray, (7, 7), 0)\n",
        "\n",
        "# perform edge detection, then perform a dilation + erosion to\n",
        "# close gaps in between object edges\n",
        "edged = cv2.Canny(gray, 50, 100)\n",
        "edged = cv2.dilate(edged, None, iterations=1)\n",
        "edged = cv2.erode(edged, None, iterations=1)\n",
        "\n",
        "# find contours in the edge map\n",
        "cnts = cv2.findContours(edged.copy(), cv2.RETR_EXTERNAL,\n",
        "\tcv2.CHAIN_APPROX_SIMPLE)\n",
        "cnts = imutils.grab_contours(cnts)\n",
        "\n",
        "# sort the contours from left-to-right and initialize the\n",
        "# 'pixels per metric' calibration variable\n",
        "(cnts, _) = contours.sort_contours(cnts)\n",
        "\n"
      ],
      "execution_count": 30,
      "outputs": []
    },
    {
      "cell_type": "code",
      "metadata": {
        "id": "aMXoi1KT-nLm"
      },
      "source": [
        "# loop over the contours individually\n",
        "for c in cnts:\n",
        "\t# if the contour is not sufficiently large, ignore it\n",
        "\tif cv2.contourArea(c) < 500:\n",
        "\t\tcontinue\n",
        "\n",
        "\t# compute the rotated bounding box of the contour\n",
        "\torig = image.copy()\n",
        "\tbox = cv2.minAreaRect(c)\n",
        "\tbox = cv2.cv.BoxPoints(box) if imutils.is_cv2() else cv2.boxPoints(box)\n",
        "\tbox = np.array(box, dtype=\"int\")\n",
        "\n",
        "\t# order the points in the contour such that they appear\n",
        "\t# in top-left, top-right, bottom-right, and bottom-left\n",
        "\t# order, then draw the outline of the rotated bounding\n",
        "\t# box\n",
        "\tbox = perspective.order_points(box)\n",
        "\tcv2.drawContours(orig, [box.astype(\"int\")], -1, (0, 255, 0), 2)\n",
        "\n",
        "\t# loop over the original points and draw them\n",
        "\tfor (x, y) in box:\n",
        "\t\tcv2.circle(orig, (int(x), int(y)), 5, (0, 0, 255), -1)\n",
        "\n",
        "\t# unpack the ordered bounding box, then compute the midpoint\n",
        "\t# between the top-left and top-right coordinates, followed by\n",
        "\t# the midpoint between bottom-left and bottom-right coordinates\n",
        "\t(tl, tr, br, bl) = box\n",
        "\t(tltrX, tltrY) = midpoint(tl, tr)\n",
        "\t(blbrX, blbrY) = midpoint(bl, br)\n",
        "\n",
        "\t# compute the midpoint between the top-left and top-right points,\n",
        "\t# followed by the midpoint between the top-righ and bottom-right\n",
        "\t(tlblX, tlblY) = midpoint(tl, bl)\n",
        "\t(trbrX, trbrY) = midpoint(tr, br)\n",
        "\n",
        "\t# draw the midpoints on the image\n",
        "\tcv2.circle(orig, (int(tltrX), int(tltrY)), 5, (255, 0, 0), -1)\n",
        "\tcv2.circle(orig, (int(blbrX), int(blbrY)), 5, (255, 0, 0), -1)\n",
        "\tcv2.circle(orig, (int(tlblX), int(tlblY)), 5, (255, 0, 0), -1)\n",
        "\tcv2.circle(orig, (int(trbrX), int(trbrY)), 5, (255, 0, 0), -1)\n",
        "\n",
        "\t# draw lines between the midpoints\n",
        "\tcv2.line(orig, (int(tltrX), int(tltrY)), (int(blbrX), int(blbrY)),\n",
        "\t\t(255, 0, 255), 2)\n",
        "\tcv2.line(orig, (int(tlblX), int(tlblY)), (int(trbrX), int(trbrY)),\n",
        "\t\t(255, 0, 255), 2)\n",
        "\n",
        "\t# compute the Euclidean distance between the midpoints\n",
        "\tdA = dist.euclidean((tltrX, tltrY), (blbrX, blbrY))\n",
        "\tdB = dist.euclidean((tlblX, tlblY), (trbrX, trbrY))\n",
        "\n",
        "\n",
        "\t# compute the size of the object\n",
        "\tdimA = dA / pixelsPerMetric\n",
        "\tdimB = dB / pixelsPerMetric\n",
        "\n",
        "\t# draw the object sizes on the image\n",
        "\tcv2.putText(orig, \"{:.1f}cm\".format(dimA),\n",
        "\t\t(int(tltrX - 15), int(tltrY - 10)), cv2.FONT_HERSHEY_SIMPLEX,\n",
        "\t\t1, (255, 255, 255), 5)\n",
        "\tcv2.putText(orig, \"{:.1f}cm\".format(dimB),\n",
        "\t\t(int(trbrX + 10), int(trbrY)), cv2.FONT_HERSHEY_SIMPLEX,\n",
        "\t\t1, (255, 255, 255), 5)\n",
        "\n",
        "\t# show the output image\n",
        "\tcv2_imshow( imutils.resize(orig, height = 650))\n",
        "\tcv2.waitKey(0)\n",
        "cv2.waitKey(0)\n",
        "cv2.destroyAllWindows()  "
      ],
      "execution_count": null,
      "outputs": []
    },
    {
      "cell_type": "code",
      "metadata": {
        "id": "7NDDzj7v-nLn"
      },
      "source": [
        ""
      ],
      "execution_count": null,
      "outputs": []
    }
  ]
}